version https://git-lfs.github.com/spec/v1
oid sha256:6f6b89a172865a4f747156d8e7a4bc560b0499b8e973877664e63a11d7a96187
size 27344
